{
 "cells": [
  {
   "cell_type": "markdown",
   "metadata": {},
   "source": [
    "## AUTOENCODER IMPLEMENTATION"
   ]
  },
  {
   "cell_type": "markdown",
   "metadata": {},
   "source": [
    "This is implementantation of DEC clustering. You should not run the whole code. If you want to run it, go below to \"Final Evaluation\" part and run from there. "
   ]
  },
  {
   "cell_type": "code",
   "execution_count": 1,
   "metadata": {},
   "outputs": [
    {
     "name": "stderr",
     "output_type": "stream",
     "text": [
      "Using TensorFlow backend.\n"
     ]
    }
   ],
   "source": [
    "import keras.backend as K\n",
    "from keras.layers import Input, Dense, Reshape, Dropout\n",
    "from keras.models import Model, Sequential, load_model\n",
    "from keras.engine.topology import Layer, InputSpec\n",
    "from keras import initializers\n",
    "from keras.optimizers import SGD\n",
    "import matplotlib.pyplot as plt\n",
    "from sklearn.cluster import KMeans\n",
    "\n",
    "\n",
    "from keras.datasets import mnist\n",
    "import pickle\n",
    "import numpy as np"
   ]
  },
  {
   "cell_type": "code",
   "execution_count": 2,
   "metadata": {},
   "outputs": [],
   "source": [
    "# Creating normalized train and test data \n",
    "(x_train, y_train), (x_test, y_test) = mnist.load_data()\n",
    "\n",
    "x_train = np.concatenate((x_train, x_test))\n",
    "y_train = np.concatenate((y_train, y_test))\n",
    "\n",
    "x_train = x_train.astype('float32') / 255.\n",
    "x_train = np.reshape(x_train, (x_train.shape[0], 784))\n"
   ]
  },
  {
   "cell_type": "code",
   "execution_count": 3,
   "metadata": {},
   "outputs": [],
   "source": [
    "# Hyperparameters\n",
    "batch_size = 256\n",
    "num_epochs = 100\n",
    "initializer = initializers.VarianceScaling(scale=1. / 3., mode='fan_in',\n",
    "                           distribution='uniform')\n",
    "optimizer = SGD(lr=1, momentum=0.9)"
   ]
  },
  {
   "cell_type": "code",
   "execution_count": 6,
   "metadata": {},
   "outputs": [],
   "source": [
    "# Autoencoder constructor\n",
    "def create_autoencoder(input_dim, output_dim, activation1, activation2):\n",
    "    \n",
    "    autoencoder = Sequential()\n",
    "    autoencoder.add(Dropout(0.2, input_shape=(input_dim,)))\n",
    "    autoencoder.add(Dense(output_dim, activation=activation1, kernel_initializer=initializer))\n",
    "    autoencoder.add(Dropout(0.2))\n",
    "    autoencoder.add(Dense(input_dim, activation=activation2, kernel_initializer=initializer))\n",
    "    \n",
    "    return autoencoder"
   ]
  },
  {
   "cell_type": "code",
   "execution_count": 7,
   "metadata": {},
   "outputs": [],
   "source": [
    "# Creating autoencoders\n",
    "autoencoder_1 = create_autoencoder(784, 500, 'relu', 'relu')\n",
    "autoencoder_2 = create_autoencoder(500, 500, 'relu', 'relu')\n",
    "autoencoder_3 = create_autoencoder(500, 2000, 'relu', 'relu')\n",
    "autoencoder_4 = create_autoencoder(2000, 10, 'relu', 'relu')"
   ]
  },
  {
   "cell_type": "code",
   "execution_count": 8,
   "metadata": {},
   "outputs": [],
   "source": [
    "# Compiling \n",
    "autoencoder_1.compile(optimizer=optimizer, loss='mse')\n",
    "autoencoder_2.compile(optimizer=optimizer, loss='mse')\n",
    "autoencoder_3.compile(optimizer=optimizer, loss='mse')\n",
    "autoencoder_4.compile(optimizer=optimizer, loss='mse')"
   ]
  },
  {
   "cell_type": "code",
   "execution_count": 9,
   "metadata": {},
   "outputs": [
    {
     "name": "stdout",
     "output_type": "stream",
     "text": [
      "_________________________________________________________________\n",
      "Layer (type)                 Output Shape              Param #   \n",
      "=================================================================\n",
      "dropout_1 (Dropout)          (None, 784)               0         \n",
      "_________________________________________________________________\n",
      "dense_1 (Dense)              (None, 500)               392500    \n",
      "_________________________________________________________________\n",
      "dropout_2 (Dropout)          (None, 500)               0         \n",
      "_________________________________________________________________\n",
      "dense_2 (Dense)              (None, 784)               392784    \n",
      "=================================================================\n",
      "Total params: 785,284\n",
      "Trainable params: 785,284\n",
      "Non-trainable params: 0\n",
      "_________________________________________________________________\n",
      "_________________________________________________________________\n",
      "Layer (type)                 Output Shape              Param #   \n",
      "=================================================================\n",
      "dropout_3 (Dropout)          (None, 500)               0         \n",
      "_________________________________________________________________\n",
      "dense_3 (Dense)              (None, 500)               250500    \n",
      "_________________________________________________________________\n",
      "dropout_4 (Dropout)          (None, 500)               0         \n",
      "_________________________________________________________________\n",
      "dense_4 (Dense)              (None, 500)               250500    \n",
      "=================================================================\n",
      "Total params: 501,000\n",
      "Trainable params: 501,000\n",
      "Non-trainable params: 0\n",
      "_________________________________________________________________\n",
      "_________________________________________________________________\n",
      "Layer (type)                 Output Shape              Param #   \n",
      "=================================================================\n",
      "dropout_5 (Dropout)          (None, 500)               0         \n",
      "_________________________________________________________________\n",
      "dense_5 (Dense)              (None, 2000)              1002000   \n",
      "_________________________________________________________________\n",
      "dropout_6 (Dropout)          (None, 2000)              0         \n",
      "_________________________________________________________________\n",
      "dense_6 (Dense)              (None, 500)               1000500   \n",
      "=================================================================\n",
      "Total params: 2,002,500\n",
      "Trainable params: 2,002,500\n",
      "Non-trainable params: 0\n",
      "_________________________________________________________________\n",
      "_________________________________________________________________\n",
      "Layer (type)                 Output Shape              Param #   \n",
      "=================================================================\n",
      "dropout_7 (Dropout)          (None, 2000)              0         \n",
      "_________________________________________________________________\n",
      "dense_7 (Dense)              (None, 10)                20010     \n",
      "_________________________________________________________________\n",
      "dropout_8 (Dropout)          (None, 10)                0         \n",
      "_________________________________________________________________\n",
      "dense_8 (Dense)              (None, 2000)              22000     \n",
      "=================================================================\n",
      "Total params: 42,010\n",
      "Trainable params: 42,010\n",
      "Non-trainable params: 0\n",
      "_________________________________________________________________\n"
     ]
    }
   ],
   "source": [
    "# Show parameters\n",
    "autoencoder_1.summary()\n",
    "autoencoder_2.summary()\n",
    "autoencoder_3.summary()\n",
    "autoencoder_4.summary()"
   ]
  },
  {
   "cell_type": "markdown",
   "metadata": {},
   "source": [
    "### Learning autoencoders"
   ]
  },
  {
   "cell_type": "code",
   "execution_count": null,
   "metadata": {},
   "outputs": [],
   "source": [
    "# Getting encoded data from model encoder and input\n",
    "def get_encoded_data(model, tmp_train_data):\n",
    "    encoding_function = K.function([model.layers[0].input], [model.layers[1].output])\n",
    "    return encoding_function([tmp_train_data])[0]"
   ]
  },
  {
   "cell_type": "code",
   "execution_count": null,
   "metadata": {},
   "outputs": [],
   "source": [
    "# Learning first autoencoder\n",
    "autoencoder_1.fit(x_train, x_train, epochs=num_epochs, batch_size=batch_size, shuffle=True)"
   ]
  },
  {
   "cell_type": "code",
   "execution_count": null,
   "metadata": {},
   "outputs": [],
   "source": [
    "# Saving autoencoder to disk\n",
    "autoencoder_1.save(\"autoencoder_1\")"
   ]
  },
  {
   "cell_type": "code",
   "execution_count": null,
   "metadata": {},
   "outputs": [],
   "source": [
    "# Getting encoded data for second autoencoder\n",
    "tmp_1_train = get_encoded_data(autoencoder_1, x_train)\n",
    "tmp_1_train.shape"
   ]
  },
  {
   "cell_type": "code",
   "execution_count": null,
   "metadata": {},
   "outputs": [],
   "source": [
    "# Learning second autoencoder\n",
    "autoencoder_2.fit(tmp_1_train, tmp_1_train, epochs=num_epochs, batch_size=batch_size, shuffle=True)"
   ]
  },
  {
   "cell_type": "code",
   "execution_count": null,
   "metadata": {},
   "outputs": [],
   "source": [
    "# Saving autoencoder to disk\n",
    "autoencoder_2.save(\"autoencoder_2\")"
   ]
  },
  {
   "cell_type": "code",
   "execution_count": null,
   "metadata": {},
   "outputs": [],
   "source": [
    "# Getting encoded data for third autoencoder\n",
    "tmp_2_train = get_encoded_data(autoencoder_2, tmp_1_train)\n",
    "tmp_2_train.shape"
   ]
  },
  {
   "cell_type": "code",
   "execution_count": null,
   "metadata": {},
   "outputs": [],
   "source": [
    "# Learning third autoencoder\n",
    "autoencoder_3.fit(tmp_2_train, tmp_2_train, epochs=num_epochs, batch_size=batch_size, shuffle=True)"
   ]
  },
  {
   "cell_type": "code",
   "execution_count": null,
   "metadata": {},
   "outputs": [],
   "source": [
    "# Saving autoencoder to disk\n",
    "autoencoder_3.save(\"autoencoder_3\")"
   ]
  },
  {
   "cell_type": "code",
   "execution_count": null,
   "metadata": {},
   "outputs": [],
   "source": [
    "# Getting encoded data for fourth autoencoder\n",
    "tmp_3_train = get_encoded_data(autoencoder_3, tmp_2_train)\n",
    "tmp_3_train.shape"
   ]
  },
  {
   "cell_type": "code",
   "execution_count": null,
   "metadata": {},
   "outputs": [],
   "source": [
    "# Learning fourth autoencoder\n",
    "autoencoder_4.fit(tmp_3_train, tmp_3_train, epochs=num_epochs, batch_size=batch_size, shuffle=True)"
   ]
  },
  {
   "cell_type": "code",
   "execution_count": null,
   "metadata": {},
   "outputs": [],
   "source": [
    "# Saving autoencoder to disk\n",
    "autoencoder_4.save(\"autoencoder_4\")"
   ]
  },
  {
   "cell_type": "markdown",
   "metadata": {},
   "source": [
    "### Making SAE"
   ]
  },
  {
   "cell_type": "code",
   "execution_count": null,
   "metadata": {},
   "outputs": [],
   "source": [
    "autoencoder_1 = load_model(\"autoencoder_1\")\n",
    "autoencoder_2 = load_model(\"autoencoder_2\")\n",
    "autoencoder_3 = load_model(\"autoencoder_3\")\n",
    "autoencoder_4 = load_model(\"autoencoder_4\")\n",
    "\n",
    "autoencoder = Sequential()\n",
    "# Adding encoder parts\n",
    "inputs = Input(shape=(784,))\n",
    "\n",
    "x = autoencoder_1.layers[1](inputs)\n",
    "x = autoencoder_2.layers[1](x)\n",
    "x = autoencoder_3.layers[1](x)\n",
    "x = autoencoder_4.layers[1](x)\n",
    "\n",
    "# Adding decoder part\n",
    "x = autoencoder_4.layers[3](x)\n",
    "x = autoencoder_3.layers[3](x)\n",
    "x = autoencoder_2.layers[3](x)\n",
    "prediction = autoencoder_1.layers[3](x)\n",
    "\n",
    "autoencoder = Model(inputs=inputs, outputs=prediction)\n",
    "autoencoder.compile(optimizer=optimizer, loss='mse')\n",
    "autoencoder.summary()"
   ]
  },
  {
   "cell_type": "code",
   "execution_count": null,
   "metadata": {
    "scrolled": false
   },
   "outputs": [],
   "source": [
    "autoencoder.fit(x_train, x_train, epochs=100, batch_size=batch_size, shuffle=True)"
   ]
  },
  {
   "cell_type": "code",
   "execution_count": null,
   "metadata": {},
   "outputs": [],
   "source": [
    "# Saving autoencoder to disk\n",
    "autoencoder.save(\"autoencoder\")"
   ]
  },
  {
   "cell_type": "code",
   "execution_count": 4,
   "metadata": {},
   "outputs": [],
   "source": [
    "def test_restoration(model):\n",
    "    decoded_imgs = model.predict(x_train)\n",
    "    get_2nd_layer_output = K.function([model.layers[0].input], [model.layers[4].output])\n",
    "\n",
    "    for i in range(2):\n",
    "        print(\"original: \")\n",
    "        plt.imshow(x_train[i].reshape(28, 28), cmap='gray')\n",
    "        plt.show()\n",
    "        #-------------------\n",
    "        print(\"reconstructed: \")\n",
    "        plt.imshow(decoded_imgs[i].reshape(28, 28), cmap='gray')\n",
    "        plt.show()\n",
    "        #-------------------\n",
    "        print(\"compressed: \")\n",
    "        current_compressed = get_2nd_layer_output([x_train[i:i+1]])[0][0]\n",
    "        plt.imshow(current_compressed.reshape(1, 10), cmap='gray')\n",
    "        plt.show()"
   ]
  },
  {
   "cell_type": "code",
   "execution_count": 5,
   "metadata": {},
   "outputs": [
    {
     "name": "stdout",
     "output_type": "stream",
     "text": [
      "original: \n"
     ]
    },
    {
     "data": {
      "image/png": "[encoded data removed]",
      "text/plain": [
       "<Figure size 432x288 with 1 Axes>"
      ]
     },
     "metadata": {
      "needs_background": "light"
     },
     "output_type": "display_data"
    },
    {
     "name": "stdout",
     "output_type": "stream",
     "text": [
      "reconstructed: \n"
     ]
    },
    {
     "data": {
      "image/png": "[encoded data removed]",
      "text/plain": [
       "<Figure size 432x288 with 1 Axes>"
      ]
     },
     "metadata": {
      "needs_background": "light"
     },
     "output_type": "display_data"
    },
    {
     "name": "stdout",
     "output_type": "stream",
     "text": [
      "compressed: \n"
     ]
    },
    {
     "data": {
      "image/png": "[encoded data removed]",
      "text/plain": [
       "<Figure size 432x288 with 1 Axes>"
      ]
     },
     "metadata": {
      "needs_background": "light"
     },
     "output_type": "display_data"
    },
    {
     "name": "stdout",
     "output_type": "stream",
     "text": [
      "original: \n"
     ]
    },
    {
     "data": {
      "image/png": "[encoded data removed]",
      "text/plain": [
       "<Figure size 432x288 with 1 Axes>"
      ]
     },
     "metadata": {
      "needs_background": "light"
     },
     "output_type": "display_data"
    },
    {
     "name": "stdout",
     "output_type": "stream",
     "text": [
      "reconstructed: \n"
     ]
    },
    {
     "data": {
      "image/png": "[encoded data removed]",
      "text/plain": [
       "<Figure size 432x288 with 1 Axes>"
      ]
     },
     "metadata": {
      "needs_background": "light"
     },
     "output_type": "display_data"
    },
    {
     "name": "stdout",
     "output_type": "stream",
     "text": [
      "compressed: \n"
     ]
    },
    {
     "data": {
      "image/png": "[encoded data removed]",
      "text/plain": [
       "<Figure size 432x288 with 1 Axes>"
      ]
     },
     "metadata": {
      "needs_background": "light"
     },
     "output_type": "display_data"
    }
   ],
   "source": [
    "autoencoder = load_model(\"autoencoder\")\n",
    "test_restoration(autoencoder)"
   ]
  },
  {
   "cell_type": "markdown",
   "metadata": {},
   "source": [
    "## K-Means clustering"
   ]
  },
  {
   "cell_type": "code",
   "execution_count": null,
   "metadata": {},
   "outputs": [],
   "source": [
    "# Creating K-means model\n",
    "kmeans = KMeans(n_clusters=10, n_init=20, verbose=0)\n",
    "kmeans.fit_predict(x_train)"
   ]
  },
  {
   "cell_type": "code",
   "execution_count": null,
   "metadata": {},
   "outputs": [],
   "source": [
    "# Dumping model\n",
    "pickle.dump(kmeans, open(\"kmeans.sav\", 'wb'))"
   ]
  },
  {
   "cell_type": "code",
   "execution_count": null,
   "metadata": {},
   "outputs": [],
   "source": [
    "# Loading model from disk\n",
    "kmeans_model = pickle.load(open(\"kmeans.sav\", 'rb'))"
   ]
  },
  {
   "cell_type": "code",
   "execution_count": null,
   "metadata": {},
   "outputs": [],
   "source": [
    "# Calculating cluster accuracy\n",
    "def cluster_acc(y_true, y_pred):\n",
    "    y_true = y_true.astype(np.int64)\n",
    "    assert y_pred.size == y_true.size\n",
    "    D = max(y_pred.max(), y_true.max()) + 1\n",
    "    w = np.zeros((D, D), dtype=np.int64)\n",
    "    for i in range(y_pred.size):\n",
    "        w[y_pred[i], y_true[i]] += 1\n",
    "    from sklearn.utils.linear_assignment_ import linear_assignment\n",
    "    ind = linear_assignment(w.max() - w)\n",
    "    return sum([w[i, j] for i, j in ind]) * 1.0 / y_pred.size"
   ]
  },
  {
   "cell_type": "code",
   "execution_count": null,
   "metadata": {},
   "outputs": [],
   "source": [
    "# Calculating accuracy of pure kmeans\n",
    "pred_kmeans = kmeans_model.predict(x_train)\n",
    "cluster_acc(y_train, pred_kmeans)"
   ]
  },
  {
   "cell_type": "markdown",
   "metadata": {},
   "source": [
    "## K-means plus encoder part"
   ]
  },
  {
   "cell_type": "code",
   "execution_count": null,
   "metadata": {},
   "outputs": [],
   "source": [
    "# Getting encoded data\n",
    "get_encoder_layer_output = K.function([autoencoder.layers[0].input], [autoencoder.layers[4].output])\n",
    "x_encoded_train = get_encoder_layer_output([x_train])[0]"
   ]
  },
  {
   "cell_type": "code",
   "execution_count": null,
   "metadata": {},
   "outputs": [],
   "source": [
    "# Creating and learning K-means model with encoded data\n",
    "kmeans_enc = KMeans(n_clusters=10, n_init=20)\n",
    "kmeans_enc.fit(x_encoded_train)\n",
    "print(\"Finished\")"
   ]
  },
  {
   "cell_type": "code",
   "execution_count": null,
   "metadata": {},
   "outputs": [],
   "source": [
    "# Dumping model\n",
    "pickle.dump(kmeans_enc, open(\"kmeans_enc.sav\", 'wb'))"
   ]
  },
  {
   "cell_type": "code",
   "execution_count": null,
   "metadata": {},
   "outputs": [],
   "source": [
    "# Loading model from disk\n",
    "kmeans_enc_model = pickle.load(open(\"kmeans_enc.sav\", 'rb'))"
   ]
  },
  {
   "cell_type": "code",
   "execution_count": null,
   "metadata": {},
   "outputs": [],
   "source": [
    "# Evaluation of K-means model with encoded data\n",
    "pred_kmeans_enc = kmeans_enc_model.predict(x_encoded_train)\n",
    "cluster_acc(y_train, pred_kmeans_enc)"
   ]
  },
  {
   "cell_type": "markdown",
   "metadata": {},
   "source": [
    "## DEC implementation"
   ]
  },
  {
   "cell_type": "code",
   "execution_count": null,
   "metadata": {},
   "outputs": [],
   "source": [
    "class ClusteringLayer(Layer):\n",
    "    \"Custom layer for clustering. Performs calcualations according SGD and t-distribution\"\n",
    "    def build(self, input_shape):\n",
    "        self.c = self.add_weight((10, input_shape[1]), initializer='glorot_uniform', name='clusters')\n",
    "        self.built = True\n",
    "\n",
    "    def call(self, z, **kwargs):\n",
    "        \"Calculating t-distribution\"\n",
    "        q = 1 / (1 + (K.sum(K.square(K.expand_dims(z, axis=1) - self.c), axis=2)))\n",
    "        q = K.transpose(K.transpose(q) / K.sum(q, axis=1))\n",
    "        return q\n",
    "\n",
    "    def compute_output_shape(self, input_shape):\n",
    "        return input_shape[0], 10"
   ]
  },
  {
   "cell_type": "code",
   "execution_count": null,
   "metadata": {},
   "outputs": [],
   "source": [
    "# Making clustering layer\n",
    "clustering_layer = ClusteringLayer()(autoencoder.layers[4].output)\n",
    "sae_and_cluster_model = Model(inputs=autoencoder.layers[0].input, outputs=clustering_layer)"
   ]
  },
  {
   "cell_type": "code",
   "execution_count": null,
   "metadata": {},
   "outputs": [],
   "source": [
    "sae_and_cluster_model.summary()"
   ]
  },
  {
   "cell_type": "code",
   "execution_count": null,
   "metadata": {},
   "outputs": [],
   "source": [
    "# Compiling model with KL divergence as loss function\n",
    "sae_and_cluster_model.compile(optimizer=SGD(0.01, 0.9), loss='kld')"
   ]
  },
  {
   "cell_type": "code",
   "execution_count": null,
   "metadata": {},
   "outputs": [],
   "source": [
    "# Initializing cluster with k-means\n",
    "sae_and_cluster_model.layers[-1].set_weights([kmeans_enc_model.cluster_centers_])"
   ]
  },
  {
   "cell_type": "markdown",
   "metadata": {},
   "source": [
    "## Training DEC"
   ]
  },
  {
   "cell_type": "code",
   "execution_count": null,
   "metadata": {},
   "outputs": [],
   "source": [
    "# Computing target distribution\n",
    "def target_distribution(q):\n",
    "    weight = q ** 2 / q.sum(0)\n",
    "    return (weight.T / weight.sum(1)).T"
   ]
  },
  {
   "cell_type": "code",
   "execution_count": null,
   "metadata": {},
   "outputs": [],
   "source": [
    "# Initializing variables\n",
    "loss = 0\n",
    "index = 0\n",
    "num_itaration = 8000\n",
    "update_interval = 100\n",
    "index_array = np.arange(x_train.shape[0])\n",
    "y_pred_prev = np.copy(pred_kmeans_enc)\n",
    "tol = 0.001 # Treshold where to stop iterating"
   ]
  },
  {
   "cell_type": "markdown",
   "metadata": {},
   "source": [
    "### Iteration"
   ]
  },
  {
   "cell_type": "code",
   "execution_count": null,
   "metadata": {},
   "outputs": [],
   "source": [
    "for ite in range(int(num_iteration)):\n",
    "    if ite % update_interval == 0:\n",
    "        q = sae_and_cluster_model.predict(x_train)\n",
    "        p = target_distribution(q)  \n",
    "\n",
    "        # Evaluation of accuracy\n",
    "        y_pred = q.argmax(1)\n",
    "        if y_train is not None:\n",
    "            acc = np.round(cluster_acc(y_train, y_pred), 5)\n",
    "            loss = np.round(loss, 5)\n",
    "            print('Iteration %d: acc = %.5f' % (ite, acc), ' ; loss=', loss)\n",
    "\n",
    "        # Checking if tolerance limit is reached\n",
    "        delta_label = np.sum(np.not_equal(y_pred, y_pred_prev)).astype(np.float32) / y_pred.shape[0]\n",
    "        y_pred_prev = np.copy(y_pred)\n",
    "        if ite > 0 and delta_label < tol:\n",
    "            print('delta_label ', delta_label, '< tol ', tol)\n",
    "            print('Reached tolerance threshold. Stopping training.')\n",
    "            break\n",
    "    idx = index_array[index * batch_size: min((index+1) * batch_size, x_train.shape[0])]\n",
    "    loss = sae_and_cluster_model.train_on_batch(x=x_train[idx], y=p[idx])\n",
    "    index = index + 1 if (index + 1) * batch_size <= x_train.shape[0] else 0"
   ]
  },
  {
   "cell_type": "code",
   "execution_count": null,
   "metadata": {},
   "outputs": [],
   "source": [
    "# Saving DEC model to disk\n",
    "sae_and_cluster_model.save(\"sae_and_cluster\")"
   ]
  },
  {
   "cell_type": "markdown",
   "metadata": {},
   "source": [
    "## Final Evaluation (Start here, and run)"
   ]
  },
  {
   "cell_type": "markdown",
   "metadata": {},
   "source": [
    "Final evaluation part, it will load all needed saved models and evaluate them."
   ]
  },
  {
   "cell_type": "code",
   "execution_count": 1,
   "metadata": {},
   "outputs": [
    {
     "name": "stderr",
     "output_type": "stream",
     "text": [
      "Using TensorFlow backend.\n"
     ]
    }
   ],
   "source": [
    "import keras.backend as K\n",
    "from keras.layers import Input, Dense, Reshape, Dropout\n",
    "from keras.models import Model, Sequential, load_model\n",
    "from keras.engine.topology import Layer, InputSpec\n",
    "from keras import initializers\n",
    "from keras.optimizers import SGD\n",
    "import matplotlib.pyplot as plt\n",
    "from sklearn.cluster import KMeans\n",
    "\n",
    "\n",
    "from keras.datasets import mnist\n",
    "import pickle\n",
    "import numpy as np"
   ]
  },
  {
   "cell_type": "code",
   "execution_count": 2,
   "metadata": {},
   "outputs": [],
   "source": [
    "class ClusteringLayer(Layer):\n",
    "    def build(self, input_shape):\n",
    "        self.c = self.add_weight((10, input_shape[1]), initializer='glorot_uniform', name='clusters')\n",
    "        self.built = True\n",
    "\n",
    "    def call(self, z, **kwargs):\n",
    "        q = 1 / (1 + (K.sum(K.square(K.expand_dims(z, axis=1) - self.c), axis=2)))\n",
    "        q = K.transpose(K.transpose(q) / K.sum(q, axis=1))\n",
    "        return q\n",
    "\n",
    "    def compute_output_shape(self, input_shape):\n",
    "        return input_shape[0], 10"
   ]
  },
  {
   "cell_type": "code",
   "execution_count": 3,
   "metadata": {},
   "outputs": [],
   "source": [
    "# Calculating cluster accuracy\n",
    "def cluster_acc(y_true, y_pred):\n",
    "    y_true = y_true.astype(np.int64)\n",
    "    assert y_pred.size == y_true.size\n",
    "    D = max(y_pred.max(), y_true.max()) + 1\n",
    "    w = np.zeros((D, D), dtype=np.int64)\n",
    "    for i in range(y_pred.size):\n",
    "        w[y_pred[i], y_true[i]] += 1\n",
    "    from sklearn.utils.linear_assignment_ import linear_assignment\n",
    "    ind = linear_assignment(w.max() - w)\n",
    "    return sum([w[i, j] for i, j in ind]) * 1.0 / y_pred.size"
   ]
  },
  {
   "cell_type": "code",
   "execution_count": 4,
   "metadata": {},
   "outputs": [],
   "source": [
    "# Computing target distribution\n",
    "def target_distribution(q):\n",
    "    weight = q ** 2 / q.sum(0)\n",
    "    return (weight.T / weight.sum(1)).T"
   ]
  },
  {
   "cell_type": "code",
   "execution_count": 5,
   "metadata": {},
   "outputs": [],
   "source": [
    "# loading all the needed models\n",
    "sae_and_cluster_model = load_model(\"sae_and_cluster\", custom_objects={'ClusteringLayer': ClusteringLayer})\n",
    "kmeans_model = pickle.load(open(\"kmeans.sav\", 'rb'))\n",
    "kmeans_enc_model = pickle.load(open(\"kmeans_enc.sav\", 'rb'))\n",
    "autoencoder = load_model(\"autoencoder\")"
   ]
  },
  {
   "cell_type": "code",
   "execution_count": 6,
   "metadata": {},
   "outputs": [],
   "source": [
    "# Initializing variables\n",
    "(x_train, y_train), (x_test, y_test) = mnist.load_data()\n",
    "\n",
    "x_train = np.concatenate((x_train, x_test))\n",
    "y_train = np.concatenate((y_train, y_test))\n",
    "\n",
    "x_train = x_train.astype('float32') / 255.\n",
    "x_train = np.reshape(x_train, (x_train.shape[0], 784))"
   ]
  },
  {
   "cell_type": "code",
   "execution_count": 7,
   "metadata": {},
   "outputs": [
    {
     "name": "stdout",
     "output_type": "stream",
     "text": [
      "DEC: acc = 0.86013\n",
      "K-means and encoder: acc 0.77904\n",
      "K-means: acc 0.53236\n"
     ]
    }
   ],
   "source": [
    "q = sae_and_cluster_model.predict(x_train)\n",
    "p = target_distribution(q)  \n",
    "\n",
    "# Getting encoded data\n",
    "get_encoder_layer_output = K.function([autoencoder.layers[0].input], [autoencoder.layers[4].output])\n",
    "x_encoded_train = get_encoder_layer_output([x_train])[0]\n",
    "\n",
    "pred_kmeans_enc = kmeans_enc_model.predict(x_encoded_train)\n",
    "pred_kmeans = kmeans_model.predict(x_train)\n",
    "\n",
    "# evaluate the clustering performance\n",
    "y_pred = q.argmax(1)\n",
    "acc = np.round(cluster_acc(y_train, y_pred), 5)\n",
    "print('DEC: acc = %.5f' % acc)\n",
    "print('K-means and encoder: acc %.5f' % cluster_acc(y_train, pred_kmeans_enc))\n",
    "print('K-means: acc %.5f' % cluster_acc(y_train, pred_kmeans))"
   ]
  },
  {
   "cell_type": "markdown",
   "metadata": {},
   "source": [
    "## DEC: acc = 0.86013\n",
    "## K-means and encoder: acc 0.77904\n",
    "## K-means: acc 0.53236"
   ]
  }
 ],
 "metadata": {
  "kernelspec": {
   "display_name": "Python 3",
   "language": "python",
   "name": "python3"
  },
  "language_info": {
   "codemirror_mode": {
    "name": "ipython",
    "version": 3
   },
   "file_extension": ".py",
   "mimetype": "text/x-python",
   "name": "python",
   "nbconvert_exporter": "python",
   "pygments_lexer": "ipython3",
   "version": "3.6.8"
  }
 },
 "nbformat": 4,
 "nbformat_minor": 1
}
