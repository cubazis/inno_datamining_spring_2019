{
 "cells": [
  {
   "cell_type": "code",
   "execution_count": 3,
   "metadata": {},
   "outputs": [],
   "source": [
    "import numpy as np"
   ]
  },
  {
   "cell_type": "code",
   "execution_count": 4,
   "metadata": {},
   "outputs": [],
   "source": [
    "np.random.seed(48) "
   ]
  },
  {
   "cell_type": "code",
   "execution_count": 5,
   "metadata": {},
   "outputs": [],
   "source": [
    "students = np.array(['Abirov', 'Akhmetshin', 'Alabugin', 'Arsenina', 'Asapov', 'Batanina', 'Belgibayev', 'Borgalinov', 'Botnarenku', 'Chasova', 'Daniyar', 'Dubovitsky', 'Evdokimov', 'Gaivoronskiy', 'Gibadullin', 'Grigorev', 'Grigoryev', 'Gurov', 'Guryev', 'Ilalova', 'Khalitov', 'Khazhiev', 'Kim', 'Kireyev', 'Kopzhassarov', 'Kuleykin', 'Kuzmin', 'Levchenko', 'Lyagaev', 'Matyashov', 'Mukhametzyanov', 'Murzakov', 'Nazyrov', 'Nikolaev', 'Pinigin', 'Romanov', 'Salakhutdinov', 'Salikhzyanov', 'Samatov', 'Sayakhov', 'Shaykhutdinova', 'Shin', 'Sorokin', 'Sultanov', 'Tarasau', 'Tolparov', 'Tuktarov', 'Turenko', 'Ustinov', 'Vakhitova', 'Valeev', 'Valiev', 'Vilyunov', 'Volobuev', 'Yalalov', 'Yashkina', 'Zakharov', 'Zalyaev'])"
   ]
  },
  {
   "cell_type": "code",
   "execution_count": 4,
   "metadata": {},
   "outputs": [],
   "source": [
    "np.random.shuffle(students)"
   ]
  },
  {
   "cell_type": "code",
   "execution_count": 5,
   "metadata": {},
   "outputs": [
    {
     "data": {
      "text/plain": [
       "array(['Kopzhassarov', 'Akhmetshin', 'Gibadullin', 'Chasova',\n",
       "       'Botnarenku', 'Zakharov', 'Dubovitsky', 'Arsenina', 'Borgalinov',\n",
       "       'Yalalov', 'Kireyev', 'Khalitov', 'Shin', 'Tolparov', 'Nazyrov',\n",
       "       'Ilalova', 'Vilyunov', 'Kuzmin', 'Evdokimov', 'Batanina',\n",
       "       'Tuktarov', 'Samatov', 'Sultanov', 'Nikolaev', 'Yashkina',\n",
       "       'Daniyar', 'Gaivoronskiy', 'Salikhzyanov', 'Shaykhutdinova',\n",
       "       'Sorokin', 'Salakhutdinov', 'Sayakhov', 'Kuleykin', 'Khazhiev',\n",
       "       'Romanov', 'Guryev', 'Alabugin', 'Mukhametzyanov', 'Grigorev',\n",
       "       'Turenko', 'Volobuev', 'Murzakov', 'Kim', 'Vakhitova', 'Matyashov',\n",
       "       'Tarasau', 'Grigoryev', 'Lyagaev', 'Pinigin', 'Valeev',\n",
       "       'Belgibayev', 'Zalyaev', 'Ustinov', 'Levchenko', 'Asapov', 'Gurov',\n",
       "       'Valiev', 'Abirov'], dtype='<U14')"
      ]
     },
     "execution_count": 5,
     "metadata": {},
     "output_type": "execute_result"
    }
   ],
   "source": [
    "students"
   ]
  },
  {
   "cell_type": "code",
   "execution_count": 6,
   "metadata": {},
   "outputs": [
    {
     "data": {
      "text/plain": [
       "array(['Volobuev', 'Ustinov', 'Kim', 'Sayakhov', 'Tolparov', 'Grigoryev',\n",
       "       'Evdokimov', 'Romanov', 'Salakhutdinov', 'Dubovitsky', 'Zalyaev',\n",
       "       'Guryev', 'Abirov', 'Turenko', 'Tuktarov', 'Borgalinov',\n",
       "       'Yashkina', 'Murzakov', 'Gaivoronskiy', 'Yalalov'], dtype='<U14')"
      ]
     },
     "execution_count": 6,
     "metadata": {},
     "output_type": "execute_result"
    }
   ],
   "source": [
    "np.random.choice(students, 20, replace=False)"
   ]
  },
  {
   "cell_type": "code",
   "execution_count": 7,
   "metadata": {},
   "outputs": [
    {
     "data": {
      "text/plain": [
       "['Volobuev',\n",
       " 'Ustinov',\n",
       " 'Sayakhov',\n",
       " 'Tolparov',\n",
       " 'Grigoryev',\n",
       " 'Salakhutdinov',\n",
       " 'Dubovitsky',\n",
       " 'Zalyaev',\n",
       " 'Guryev',\n",
       " 'Turenko',\n",
       " 'Tuktarov',\n",
       " 'Borgalinov',\n",
       " 'Yashkina',\n",
       " 'Murzakov',\n",
       " 'Gaivoronskiy',\n",
       " 'Yalalov']"
      ]
     },
     "execution_count": 7,
     "metadata": {},
     "output_type": "execute_result"
    }
   ],
   "source": [
    "succeeded_1 = ['Volobuev', 'Ustinov', 'Sayakhov', 'Tolparov', 'Grigoryev', 'Salakhutdinov', 'Dubovitsky', 'Zalyaev', 'Guryev', 'Turenko', 'Tuktarov', 'Borgalinov','Yashkina', 'Murzakov', 'Gaivoronskiy', 'Yalalov']\n",
    "succeeded_1"
   ]
  },
  {
   "cell_type": "code",
   "execution_count": 17,
   "metadata": {},
   "outputs": [
    {
     "data": {
      "text/plain": [
       "array(['Botnarenku', 'Gurov', 'Kuleykin', 'Shin', 'Kuzmin',\n",
       "       'Salikhzyanov', 'Khazhiev', 'Lyagaev', 'Abirov', 'Kim', 'Tarasau',\n",
       "       'Zakharov', 'Evdokimov', 'Batanina', 'Kireyev', 'Matyashov',\n",
       "       'Shaykhutdinova', 'Nazyrov', 'Samatov', 'Asapov', 'Daniyar',\n",
       "       'Romanov', 'Sorokin', 'Sultanov', 'Levchenko', 'Gibadullin',\n",
       "       'Belgibayev', 'Alabugin', 'Nikolaev', 'Ilalova', 'Vilyunov',\n",
       "       'Kopzhassarov', 'Valiev', 'Khalitov', 'Arsenina', 'Vakhitova',\n",
       "       'Grigorev', 'Akhmetshin', 'Mukhametzyanov', 'Chasova', 'Pinigin',\n",
       "       'Valeev'], dtype='<U14')"
      ]
     },
     "execution_count": 17,
     "metadata": {},
     "output_type": "execute_result"
    }
   ],
   "source": [
    "lambs_of_god = np.array(list(set(students) - set(succeeded_1)))\n",
    "lambs_of_god"
   ]
  },
  {
   "cell_type": "code",
   "execution_count": 18,
   "metadata": {},
   "outputs": [],
   "source": [
    "np.random.shuffle(lambs_of_god)"
   ]
  },
  {
   "cell_type": "code",
   "execution_count": 19,
   "metadata": {},
   "outputs": [
    {
     "data": {
      "text/plain": [
       "array(['Khazhiev', 'Salikhzyanov', 'Vilyunov', 'Kim', 'Zakharov',\n",
       "       'Valeev', 'Kopzhassarov', 'Abirov', 'Batanina', 'Akhmetshin',\n",
       "       'Ilalova', 'Lyagaev', 'Grigorev', 'Shaykhutdinova', 'Levchenko',\n",
       "       'Daniyar', 'Vakhitova', 'Nazyrov', 'Chasova', 'Alabugin',\n",
       "       'Samatov', 'Matyashov', 'Kuzmin', 'Khalitov', 'Botnarenku',\n",
       "       'Romanov', 'Belgibayev', 'Evdokimov', 'Shin', 'Sorokin', 'Tarasau',\n",
       "       'Arsenina', 'Pinigin', 'Sultanov', 'Gurov', 'Nikolaev',\n",
       "       'Gibadullin', 'Asapov', 'Kireyev', 'Mukhametzyanov', 'Kuleykin',\n",
       "       'Valiev'], dtype='<U14')"
      ]
     },
     "execution_count": 19,
     "metadata": {},
     "output_type": "execute_result"
    }
   ],
   "source": [
    "lambs_of_god"
   ]
  },
  {
   "cell_type": "code",
   "execution_count": 20,
   "metadata": {},
   "outputs": [
    {
     "data": {
      "text/plain": [
       "array(['Shaykhutdinova', 'Alabugin', 'Arsenina', 'Levchenko', 'Pinigin',\n",
       "       'Romanov', 'Gurov', 'Samatov', 'Lyagaev', 'Zakharov', 'Daniyar',\n",
       "       'Chasova', 'Gibadullin', 'Salikhzyanov', 'Sultanov', 'Shin',\n",
       "       'Evdokimov', 'Batanina', 'Kireyev', 'Abirov'], dtype='<U14')"
      ]
     },
     "execution_count": 20,
     "metadata": {},
     "output_type": "execute_result"
    }
   ],
   "source": [
    "np.random.choice(lambs_of_god, 20, replace=False)"
   ]
  }
 ],
 "metadata": {
  "kernelspec": {
   "display_name": "Python 3",
   "language": "python",
   "name": "python3"
  },
  "language_info": {
   "codemirror_mode": {
    "name": "ipython",
    "version": 3
   },
   "file_extension": ".py",
   "mimetype": "text/x-python",
   "name": "python",
   "nbconvert_exporter": "python",
   "pygments_lexer": "ipython3",
   "version": "3.6.7"
  }
 },
 "nbformat": 4,
 "nbformat_minor": 2
}
