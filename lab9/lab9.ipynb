{
 "cells": [
  {
   "cell_type": "markdown",
   "metadata": {},
   "source": [
    "# Lab 9. HITS Algorithm"
   ]
  },
  {
   "cell_type": "markdown",
   "metadata": {},
   "source": [
    "Given an adjacency matrix of a graph, HITS computes the hub and authority score vectors which can be used for ranking nodes in the graph. \n",
    "\n",
    "##### Problem definition of HITS\n",
    "* **Input**: adjacency matrix $\\mathbf{A}\\in \\mathbb{R}^{n \\times n}$ of a graph $G=(V, E)$\n",
    "* **Output**: hub score vector $\\mathbf{h} \\in \\mathbb{R}^{n}$, and authority score vector $\\mathbf{a} \\in \\mathbb{R}^{n}$ such that\n",
    "\n",
    "    - $\\mathbf{h} = \\mathbf{A}\\mathbf{a}$\n",
    "    - $\\mathbf{a} = \\mathbf{A}^{\\top}\\mathbf{h}$\n",
    "\n",
    "* The above equations are called the equations for HITS.\n",
    "\n",
    "Note that HITS does not require the row-normalized adjacency matrix. "
   ]
  },
  {
   "cell_type": "code",
   "execution_count": 1,
   "metadata": {},
   "outputs": [],
   "source": [
    "# !pip install scikit-learn\n",
    "import numpy as np\n",
    "import scipy as scp\n",
    "import matplotlib.pyplot as plt\n",
    "import pandas as pd\n",
    "from scipy.sparse import csr_matrix, find\n",
    "import networkx as nx\n",
    "from sklearn import preprocessing\n",
    "import math"
   ]
  },
  {
   "cell_type": "markdown",
   "metadata": {},
   "source": [
    "At first load dataset from `data_1`. This is small dataset, just to test your implementation."
   ]
  },
  {
   "cell_type": "code",
   "execution_count": 2,
   "metadata": {},
   "outputs": [],
   "source": [
    "def load_data(path):\n",
    "    edges = np.loadtxt(path+'/edges.tsv', dtype=int)\n",
    "    node_labels = pd.read_csv(path+'/node_labels.tsv', sep=\"\\t\")\n",
    "    n = int(np.amax(edges[:, 0:2])) + 1\n",
    "    A = csr_matrix((edges[:, 2], (edges[:, 0], edges[:, 1])), shape=(n, n), dtype=float)\n",
    "    AT = A.T\n",
    "    G = nx.from_scipy_sparse_matrix(A)\n",
    "    return A, AT, G, node_labels\n",
    "A, AT, G, labels = load_data('data_1')"
   ]
  },
  {
   "cell_type": "markdown",
   "metadata": {},
   "source": [
    "Let's consider what do we have"
   ]
  },
  {
   "cell_type": "code",
   "execution_count": 3,
   "metadata": {},
   "outputs": [],
   "source": [
    "gpos = nx.spring_layout(G)\n",
    "plt.figure(figsize=(10,10))\n",
    "nx.draw(G, gpos, with_labels=True, node_size=400)"
   ]
  },
  {
   "cell_type": "code",
   "execution_count": 4,
   "metadata": {},
   "outputs": [
    {
     "name": "stdout",
     "output_type": "stream",
     "text": [
      "The number n of nodes: 29\n",
      "The number m of edges: 376\n"
     ]
    }
   ],
   "source": [
    "print(\"The number n of nodes: {}\".format(A.shape[0]))\n",
    "print(\"The number m of edges: {}\".format(A.nnz))"
   ]
  },
  {
   "cell_type": "markdown",
   "metadata": {},
   "source": [
    "## Implementation step\n",
    "\n",
    "The hub and authority score vectors, $\\mathbf{h}$ and $\\mathbf{a}$, are obtained by iteratively computing the equations for HITS.   \n",
    "Note that for each iteration, we need to L2-normalize the vectors $\\mathbf{h}$ and $\\mathbf{a}$.\n",
    "The following pseudo-code represents the iterative algorithm for HITS. \n",
    "\n",
    "<img src=\"./iterative-algorithm-hits.png\" width=\"400\">\n",
    "\n",
    "Implement the iterative algorithm in Python. "
   ]
  },
  {
   "cell_type": "code",
   "execution_count": 5,
   "metadata": {},
   "outputs": [],
   "source": [
    "def HITS(A, AT, epsilon=1e-9, maxIters=100):\n",
    "    '''\n",
    "    Iterate the HITS equation to obatin the hub & authority score vectors\n",
    "\n",
    "    inputs:\n",
    "        epsilon: float\n",
    "            the error tolerance of the iteration\n",
    "        maxIters: int\n",
    "            the maximum number of iterations\n",
    "\n",
    "    outputs:\n",
    "        h: np.ndarray (n x 1 vector)\n",
    "            the final hub score vector\n",
    "        a: np.ndarray (n x 1 vector)\n",
    "            the final authority score vector\n",
    "        h_residuals: list\n",
    "            the list of hub residuals over the iteration\n",
    "        a_residuals: list\n",
    "            the list of authority residuals over the iteration\n",
    "\n",
    "    '''\n",
    "    n = A.shape[0]     # number of nodes\n",
    "    m = A.nnz          # number of nodes\n",
    "    authority = np.ones(n)\n",
    "    hub_score = np.ones(n)\n",
    "    err_a=1\n",
    "    err_h=1\n",
    "    iters = 0\n",
    "    while err_a >= epsilon and err_h >= epsilon and iters<maxIters:\n",
    "        iters+=1\n",
    "        authority_t = AT * hub_score\n",
    "        hub_score_t = A * authority_t\n",
    "        \n",
    "        authority_t = authority_t / math.sqrt(sum(i**2 for i in authority_t))\n",
    "        hub_score_t = hub_score_t / math.sqrt(sum(i**2 for i in hub_score_t))\n",
    "#         print(authority_t)\n",
    "#         print(hub_score_t)\n",
    "        err_a=sum(abs(authority-authority_t))\n",
    "        err_b=sum(abs(hub_score-hub_score_t))\n",
    "        authority = authority_t\n",
    "        hub_score = hub_score_t\n",
    "#         print(err_a)\n",
    "#         print(err_b)\n",
    "#         print(epsilon)\n",
    "    \n",
    "    ### YOUR CODE HERE ###\n",
    "    h = hub_score\n",
    "    a = authority\n",
    "    h_residuals=err_b\n",
    "    a_residuals=err_a\n",
    "    return h, a, h_residuals, a_residuals"
   ]
  },
  {
   "cell_type": "markdown",
   "metadata": {},
   "source": [
    "Let's check the implementation is correctly performed. \n",
    "We will briefly check each personalized ranking result using `pandas`. \n",
    "See the following code where a seed node is given. \n",
    "Note that the given seed node should have a high ranking score. "
   ]
  },
  {
   "cell_type": "code",
   "execution_count": 6,
   "metadata": {},
   "outputs": [],
   "source": [
    "def rank_nodes_k(ranking_scores,node_labels, topk=-1):\n",
    "    '''\n",
    "    Rank nodes in the order of given ranking scores. \n",
    "    This function reports top-k rankings. \n",
    "\n",
    "    inputs:\n",
    "        ranking_scores: np.ndarray\n",
    "            ranking score vector\n",
    "        topk: int\n",
    "            top-k ranking parameter, default is -1 indicating report all ranks\n",
    "    '''\n",
    "    sorted_nodes = np.flipud(np.argsort(ranking_scores)) # argsort in the descending order\n",
    "    sorted_scores = ranking_scores[sorted_nodes]         # sort the ranking scores\n",
    "    ranks = range(1, A.shape[0]+1) # 0~n-1\n",
    "\n",
    "    result_labels = node_labels.iloc[sorted_nodes][0:topk]\n",
    "    result_labels.insert(0, \"rank\", ranks[0:topk])\n",
    "    result_labels[\"score\"] = sorted_scores[0:topk]\n",
    "    result_labels.reset_index(drop = True, inplace = True)\n",
    "    return result_labels"
   ]
  },
  {
   "cell_type": "code",
   "execution_count": 7,
   "metadata": {},
   "outputs": [
    {
     "name": "stdout",
     "output_type": "stream",
     "text": [
      "Top-5 rankings based on the hub score vector:\n",
      "   rank  node_id            label     score\n",
      "0     1         4      male_jacob  0.320863\n",
      "1     2         5     male_elijah  0.317454\n",
      "2     3         3   male_benjamin  0.293383\n",
      "3     4         2    male_william  0.224871\n",
      "4     5        21    male_matthew  0.219779\n",
      "Top-5 rankings based on the authority score vector\n",
      "   rank  node_id              label     score\n",
      "0     1         7       female_emma  0.269209\n",
      "1     2         8     female_olivia  0.262543\n",
      "2     3        10   female_isabella  0.260004\n",
      "3     4        13     female_amelia  0.249306\n",
      "4     5        11     female_sophia  0.242907\n"
     ]
    }
   ],
   "source": [
    "### RUN THIS CELL ###\n",
    "\n",
    "h, a, h_residuals, a_residuals = HITS(A, AT, epsilon=1e-9, maxIters=100)\n",
    "\n",
    "print(\"Top-5 rankings based on the hub score vector:\")\n",
    "print(rank_nodes_k(h,labels, 5))\n",
    "\n",
    "print(\"Top-5 rankings based on the authority score vector\")\n",
    "print(rank_nodes_k(a,labels, 5))\n",
    "\n",
    "### AND CHECK WITH PRECOMPUTED RESULT OF NEXT CELL ###"
   ]
  },
  {
   "cell_type": "markdown",
   "metadata": {},
   "source": [
    "Check your results with my precomputed results"
   ]
  },
  {
   "cell_type": "code",
   "execution_count": 9,
   "metadata": {},
   "outputs": [
    {
     "name": "stdout",
     "output_type": "stream",
     "text": [
      "Top-5 rankings based on the hub score vector:\n",
      "   rank  node_id            label     score\n",
      "0     1         4      male_jacob  0.320863\n",
      "1     2         5     male_elijah  0.317454\n",
      "2     3         3   male_benjamin  0.293383\n",
      "3     4         2    male_william  0.224871\n",
      "4     5        21    male_matthew  0.219779\n",
      "Top-5 rankings based on the authority score vector\n",
      "   rank  node_id              label     score\n",
      "0     1         7       female_emma  0.269209\n",
      "1     2         8     female_olivia  0.262543\n",
      "2     3        10   female_isabella  0.260004\n",
      "3     4        13     female_amelia  0.249306\n",
      "4     5        11     female_sophia  0.242907\n"
     ]
    }
   ],
   "source": [
    "h, a, h_residuals, a_residuals = HITS(A, AT, epsilon=1e-9, maxIters=100)\n",
    "\n",
    "print(\"Top-5 rankings based on the hub score vector:\")\n",
    "print(rank_nodes_k(h,labels, 5))\n",
    "\n",
    "print(\"Top-5 rankings based on the authority score vector\")\n",
    "print(rank_nodes_k(a,labels, 5))"
   ]
  },
  {
   "cell_type": "markdown",
   "metadata": {},
   "source": [
    "## Validation step\n",
    "\n",
    "Validate the implementation of HITS. Similarly to PageRank, check if the residuals of the \n",
    "iterative algorithm monotonically decrease, and compare between the exact and iterative solutions of HITS.\n",
    "\n"
   ]
  },
  {
   "cell_type": "code",
   "execution_count": 10,
   "metadata": {},
   "outputs": [],
   "source": [
    "def plot_residuals(residuals, title):\n",
    "    plt.semilogy(residuals, marker='o', markersize=5)\n",
    "    plt.title(title)\n",
    "    plt.ylim(bottom=1e-10, top=1e1)\n",
    "    plt.ylabel('Residual')\n",
    "    plt.xlabel('# of iterations')\n",
    "    plt.grid(True)\n",
    "    plt.show()"
   ]
  },
  {
   "cell_type": "markdown",
   "metadata": {},
   "source": [
    "### Residuals monotonically decrease"
   ]
  },
  {
   "cell_type": "code",
   "execution_count": 11,
   "metadata": {},
   "outputs": [
    {
     "name": "stderr",
     "output_type": "stream",
     "text": [
      "/Library/Frameworks/Python.framework/Versions/3.7/lib/python3.7/site-packages/matplotlib/figure.py:2369: UserWarning: This figure includes Axes that are not compatible with tight_layout, so results might be incorrect.\n",
      "  warnings.warn(\"This figure includes Axes that are not compatible \"\n"
     ]
    }
   ],
   "source": [
    "### RUN THIS CELL ###\n",
    "\n",
    "plot_residuals(h_residuals, 'Change of Hub Residuals from HITS')\n",
    "\n",
    "### AND CHECK WITH PRECOMPUTED RESULT OF NEXT CELL ###"
   ]
  },
  {
   "cell_type": "code",
   "execution_count": 12,
   "metadata": {},
   "outputs": [],
   "source": [
    "plot_residuals(h_residuals, 'Change of Hub Residuals from HITS')"
   ]
  },
  {
   "cell_type": "code",
   "execution_count": 13,
   "metadata": {},
   "outputs": [],
   "source": [
    "### RUN THIS CELL ###\n",
    "\n",
    "plot_residuals(a_residuals, 'Change of Authority Residuals from HITS')\n",
    "\n",
    "### AND CHECK WITH PRECOMPUTED RESULT OF NEXT CELL ###"
   ]
  },
  {
   "cell_type": "code",
   "execution_count": 14,
   "metadata": {
    "scrolled": true
   },
   "outputs": [],
   "source": [
    "plot_residuals(a_residuals, 'Change of Authority Residuals from HITS')"
   ]
  },
  {
   "cell_type": "markdown",
   "metadata": {},
   "source": [
    "### Check if the iterative solution is equal to the exact solution of HITS\n",
    "\n",
    "We can directly compute the hub ans authority score vectors of HITS as follows:\n",
    "* The hub score vector $\\mathbf{h}$ is the principle eigenvector of $\\mathbf{A}\\mathbf{A}^{\\top}$.\n",
    "* The authority score vector $\\mathbf{a}$ is the principle eigenvector of $\\mathbf{A}^{\\top}\\mathbf{A}$.\n",
    "\n",
    "The principle eigenvector of a matrix is an eigenvector of the largest eigenvalue. \n",
    "Suppose the Singular Value Decomposition (SVD) of the adjacency matrix is $\\mathbf{A}=\\mathbf{U}\\mathbf{S}\\mathbf{V}^{\\top}$. Then,\n",
    "* $\\mathbf{h}$ is the first (most left) vector of $\\mathbf{U}$. \n",
    "* $\\mathbf{a}$ is the first (most left) vector of $\\mathbf{V}$.\n",
    "\n",
    "We will not describe the detailed proofs for the above statements, but we can use them as the exact solutions for the hub and authority score vectors. \n",
    "\n",
    "We will implement the following function to compute the exact solutions. \n",
    "Note that since the adjacency matrix $\\mathbf{A}$ is a sparse matrix, we will use `svds` (sparse SVD) in `scipy`.\n",
    "* `svds`: this performs SVD on a sparse matrix\n",
    "    - https://docs.scipy.org/doc/scipy/reference/generated/scipy.sparse.linalg.svds.html"
   ]
  },
  {
   "cell_type": "code",
   "execution_count": 15,
   "metadata": {},
   "outputs": [],
   "source": [
    "def exact_HITS(A):\n",
    "    from scipy.sparse.linalg import svds\n",
    "    '''\n",
    "    Compute the exact hub & authority score vectors from the closed form\n",
    "\n",
    "    outputs:\n",
    "        h: np.ndarray (n x 1 vector)\n",
    "            the final hub score vector\n",
    "        a: np.ndarray (n x 1 vector)\n",
    "            the final authority score vector\n",
    "    '''\n",
    "    h, s, a = svds(A, k=1)\n",
    "\n",
    "    h = np.asarray(h).flatten()   \n",
    "    a = np.asarray(a).flatten()\n",
    "\n",
    "    h = h * np.sign(h)\n",
    "    h = h / np.linalg.norm(h, 2)\n",
    "    a = a * np.sign(a)\n",
    "    a = a / np.linalg.norm(a, 2)\n",
    "\n",
    "    return h, a"
   ]
  },
  {
   "cell_type": "markdown",
   "metadata": {},
   "source": [
    "#### Errors \n",
    "Error between exact and iterative hub scores: 1.275379e-10\n",
    "\n",
    "Error between exact and iterative authority scores: 4.813523e-11"
   ]
  },
  {
   "cell_type": "code",
   "execution_count": 16,
   "metadata": {},
   "outputs": [
    {
     "name": "stdout",
     "output_type": "stream",
     "text": [
      "Error between exact and iterative hub scores: 2.406173e-11\n",
      "Error between exact and iterative authority scores: 6.648240e-11\n"
     ]
    }
   ],
   "source": [
    "### RUN THIS CELL AND COMPARE RESULTS ###\n",
    "\n",
    "h_exact, a_exact = exact_HITS(A)\n",
    "h_error = np.linalg.norm(h_exact - h, 1)\n",
    "print(\"Error between exact and iterative hub scores: {:e}\".format(h_error))\n",
    "\n",
    "a_error = np.linalg.norm(a_exact - a, 1)\n",
    "print(\"Error between exact and iterative authority scores: {:e}\".format(a_error))"
   ]
  },
  {
   "cell_type": "markdown",
   "metadata": {},
   "source": [
    "### Big dataset"
   ]
  },
  {
   "cell_type": "code",
   "execution_count": 17,
   "metadata": {},
   "outputs": [],
   "source": [
    "A, AT, G, labels = load_data('data_2')"
   ]
  },
  {
   "cell_type": "code",
   "execution_count": 18,
   "metadata": {},
   "outputs": [
    {
     "name": "stdout",
     "output_type": "stream",
     "text": [
      "Top-10 rankings based on the hub score vector:\n",
      "   rank  node_id                    address     score\n",
      "0     1      141       no.address@enron.com  0.464946\n",
      "1     2      371          40enron@enron.com  0.301402\n",
      "2     3      733       tana.jones@enron.com  0.155692\n",
      "3     4      671  sara.shackleton@enron.com  0.135909\n",
      "4     5      105      steven.kean@enron.com  0.124172\n",
      "5     6     1328    mark.haedicke@enron.com  0.114921\n",
      "6     7       90    jeff.dasovich@enron.com  0.110499\n",
      "7     8     1624      mark.taylor@enron.com  0.108638\n",
      "8     9        2    john.lavorato@enron.com  0.107663\n",
      "9    10      156   louise.kitchen@enron.com  0.105987\n",
      "Top-10 rankings based on the authority score vector\n",
      "   rank  node_id                    address     score\n",
      "0     1      156   louise.kitchen@enron.com  0.196387\n",
      "1     2        2    john.lavorato@enron.com  0.149168\n",
      "2     3      228     greg.whalley@enron.com  0.137076\n",
      "3     4       97       sally.beck@enron.com  0.126122\n",
      "4     5      733       tana.jones@enron.com  0.125953\n",
      "5     6        1       tim.belden@enron.com  0.120326\n",
      "6     7     1624      mark.taylor@enron.com  0.119657\n",
      "7     8     1136  elizabeth.sager@enron.com  0.108948\n",
      "8     9      671  sara.shackleton@enron.com  0.108918\n",
      "9    10      136  richard.shapiro@enron.com  0.103350\n"
     ]
    }
   ],
   "source": [
    "### RUN THIS CELL ###\n",
    "\n",
    "h, a, h_residuals, a_residuals = HITS(A, AT, epsilon=1e-9, maxIters=100)\n",
    "\n",
    "print(\"Top-10 rankings based on the hub score vector:\")\n",
    "print(rank_nodes_k(h,labels, 10))\n",
    "\n",
    "print(\"Top-10 rankings based on the authority score vector\")\n",
    "print(rank_nodes_k(a,labels, 10))\n",
    "\n",
    "### AND CHECK WITH PRECOMPUTED RESULT OF NEXT CELL ###"
   ]
  },
  {
   "cell_type": "code",
   "execution_count": 20,
   "metadata": {},
   "outputs": [
    {
     "name": "stdout",
     "output_type": "stream",
     "text": [
      "Top-10 rankings based on the hub score vector:\n",
      "   rank  node_id                    address     score\n",
      "0     1      141       no.address@enron.com  0.464946\n",
      "1     2      371          40enron@enron.com  0.301402\n",
      "2     3      733       tana.jones@enron.com  0.155692\n",
      "3     4      671  sara.shackleton@enron.com  0.135909\n",
      "4     5      105      steven.kean@enron.com  0.124172\n",
      "5     6     1328    mark.haedicke@enron.com  0.114921\n",
      "6     7       90    jeff.dasovich@enron.com  0.110499\n",
      "7     8     1624      mark.taylor@enron.com  0.108638\n",
      "8     9        2    john.lavorato@enron.com  0.107663\n",
      "9    10      156   louise.kitchen@enron.com  0.105987\n",
      "Top-10 rankings based on the authority score vector\n",
      "   rank  node_id                    address     score\n",
      "0     1      156   louise.kitchen@enron.com  0.196387\n",
      "1     2        2    john.lavorato@enron.com  0.149168\n",
      "2     3      228     greg.whalley@enron.com  0.137076\n",
      "3     4       97       sally.beck@enron.com  0.126122\n",
      "4     5      733       tana.jones@enron.com  0.125953\n",
      "5     6        1       tim.belden@enron.com  0.120326\n",
      "6     7     1624      mark.taylor@enron.com  0.119657\n",
      "7     8     1136  elizabeth.sager@enron.com  0.108948\n",
      "8     9      671  sara.shackleton@enron.com  0.108918\n",
      "9    10      136  richard.shapiro@enron.com  0.103350\n"
     ]
    }
   ],
   "source": [
    "h, a, h_residuals, a_residuals = HITS(A, AT, epsilon=1e-9, maxIters=100)\n",
    "\n",
    "print(\"Top-10 rankings based on the hub score vector:\")\n",
    "print(rank_nodes_k(h,labels, 10))\n",
    "\n",
    "print(\"Top-10 rankings based on the authority score vector\")\n",
    "print(rank_nodes_k(a,labels, 10))"
   ]
  },
  {
   "cell_type": "markdown",
   "metadata": {},
   "source": [
    "#### Run next cells for self check"
   ]
  },
  {
   "cell_type": "code",
   "execution_count": 21,
   "metadata": {},
   "outputs": [],
   "source": [
    "plot_residuals(h_residuals, 'Change of Hub Residuals from HITS')"
   ]
  },
  {
   "cell_type": "code",
   "execution_count": 22,
   "metadata": {
    "scrolled": true
   },
   "outputs": [],
   "source": [
    "plot_residuals(a_residuals, 'Change of Authority Residuals from HITS')"
   ]
  },
  {
   "cell_type": "markdown",
   "metadata": {},
   "source": [
    "#### Errors\n",
    "Error between exact and iterative hub scores: 3.545309e-10\n",
    "\n",
    "Error between exact and iterative authority scores: 4.231717e-10"
   ]
  },
  {
   "cell_type": "code",
   "execution_count": 23,
   "metadata": {},
   "outputs": [
    {
     "name": "stdout",
     "output_type": "stream",
     "text": [
      "Error between exact and iterative hub scores: 3.426438e-10\n",
      "Error between exact and iterative authority scores: 6.763399e-10\n"
     ]
    }
   ],
   "source": [
    "h_exact, a_exact = exact_HITS(A)\n",
    "h_error = np.linalg.norm(h_exact - h, 1)\n",
    "print(\"Error between exact and iterative hub scores: {:e}\".format(h_error))\n",
    "\n",
    "a_error = np.linalg.norm(a_exact - a, 1)\n",
    "print(\"Error between exact and iterative authority scores: {:e}\".format(a_error))"
   ]
  },
  {
   "cell_type": "code",
   "execution_count": 24,
   "metadata": {
    "scrolled": true
   },
   "outputs": [
    {
     "ename": "KeyboardInterrupt",
     "evalue": "",
     "output_type": "error",
     "traceback": [
      "\u001b[0;31m---------------------------------------------------------------------------\u001b[0m",
      "\u001b[0;31mKeyboardInterrupt\u001b[0m                         Traceback (most recent call last)",
      "\u001b[0;32m/Library/Frameworks/Python.framework/Versions/3.7/lib/python3.7/site-packages/networkx/drawing/layout.py\u001b[0m in \u001b[0;36mfruchterman_reingold_layout\u001b[0;34m(G, k, pos, fixed, iterations, threshold, weight, scale, center, dim, seed)\u001b[0m\n\u001b[1;32m    459\u001b[0m                                            \u001b[0miterations\u001b[0m\u001b[0;34m,\u001b[0m \u001b[0mthreshold\u001b[0m\u001b[0;34m,\u001b[0m\u001b[0;34m\u001b[0m\u001b[0m\n\u001b[0;32m--> 460\u001b[0;31m                                            dim, seed)\n\u001b[0m\u001b[1;32m    461\u001b[0m     \u001b[0;32mexcept\u001b[0m\u001b[0;34m:\u001b[0m\u001b[0;34m\u001b[0m\u001b[0m\n",
      "\u001b[0;32m</Library/Frameworks/Python.framework/Versions/3.7/lib/python3.7/site-packages/decorator.py:decorator-gen-791>\u001b[0m in \u001b[0;36m_sparse_fruchterman_reingold\u001b[0;34m(A, k, pos, fixed, iterations, threshold, dim, seed)\u001b[0m\n",
      "\u001b[0;32m/Library/Frameworks/Python.framework/Versions/3.7/lib/python3.7/site-packages/networkx/utils/decorators.py\u001b[0m in \u001b[0;36m_random_state\u001b[0;34m(func, *args, **kwargs)\u001b[0m\n\u001b[1;32m    404\u001b[0m         \u001b[0mnew_args\u001b[0m\u001b[0;34m[\u001b[0m\u001b[0mrandom_state_index\u001b[0m\u001b[0;34m]\u001b[0m \u001b[0;34m=\u001b[0m \u001b[0mrandom_state\u001b[0m\u001b[0;34m\u001b[0m\u001b[0m\n\u001b[0;32m--> 405\u001b[0;31m         \u001b[0;32mreturn\u001b[0m \u001b[0mfunc\u001b[0m\u001b[0;34m(\u001b[0m\u001b[0;34m*\u001b[0m\u001b[0mnew_args\u001b[0m\u001b[0;34m,\u001b[0m \u001b[0;34m**\u001b[0m\u001b[0mkwargs\u001b[0m\u001b[0;34m)\u001b[0m\u001b[0;34m\u001b[0m\u001b[0m\n\u001b[0m\u001b[1;32m    406\u001b[0m     \u001b[0;32mreturn\u001b[0m \u001b[0m_random_state\u001b[0m\u001b[0;34m\u001b[0m\u001b[0m\n",
      "\u001b[0;32m/Library/Frameworks/Python.framework/Versions/3.7/lib/python3.7/site-packages/networkx/drawing/layout.py\u001b[0m in \u001b[0;36m_sparse_fruchterman_reingold\u001b[0;34m(A, k, pos, fixed, iterations, threshold, dim, seed)\u001b[0m\n\u001b[1;32m    602\u001b[0m             \u001b[0mdisplacement\u001b[0m\u001b[0;34m[\u001b[0m\u001b[0;34m:\u001b[0m\u001b[0;34m,\u001b[0m \u001b[0mi\u001b[0m\u001b[0;34m]\u001b[0m \u001b[0;34m+=\u001b[0m\u001b[0;31m\\\u001b[0m\u001b[0;34m\u001b[0m\u001b[0m\n\u001b[0;32m--> 603\u001b[0;31m                 \u001b[0;34m(\u001b[0m\u001b[0mdelta\u001b[0m \u001b[0;34m*\u001b[0m \u001b[0;34m(\u001b[0m\u001b[0mk\u001b[0m \u001b[0;34m*\u001b[0m \u001b[0mk\u001b[0m \u001b[0;34m/\u001b[0m \u001b[0mdistance\u001b[0m\u001b[0;34m**\u001b[0m\u001b[0;36m2\u001b[0m \u001b[0;34m-\u001b[0m \u001b[0mAi\u001b[0m \u001b[0;34m*\u001b[0m \u001b[0mdistance\u001b[0m \u001b[0;34m/\u001b[0m \u001b[0mk\u001b[0m\u001b[0;34m)\u001b[0m\u001b[0;34m)\u001b[0m\u001b[0;34m.\u001b[0m\u001b[0msum\u001b[0m\u001b[0;34m(\u001b[0m\u001b[0maxis\u001b[0m\u001b[0;34m=\u001b[0m\u001b[0;36m1\u001b[0m\u001b[0;34m)\u001b[0m\u001b[0;34m\u001b[0m\u001b[0m\n\u001b[0m\u001b[1;32m    604\u001b[0m         \u001b[0;31m# update positions\u001b[0m\u001b[0;34m\u001b[0m\u001b[0;34m\u001b[0m\u001b[0m\n",
      "\u001b[0;31mKeyboardInterrupt\u001b[0m: ",
      "\nDuring handling of the above exception, another exception occurred:\n",
      "\u001b[0;31mKeyboardInterrupt\u001b[0m                         Traceback (most recent call last)",
      "\u001b[0;32m<ipython-input-24-d06006eebdba>\u001b[0m in \u001b[0;36m<module>\u001b[0;34m()\u001b[0m\n\u001b[0;32m----> 1\u001b[0;31m \u001b[0mgpos\u001b[0m \u001b[0;34m=\u001b[0m \u001b[0mnx\u001b[0m\u001b[0;34m.\u001b[0m\u001b[0mspring_layout\u001b[0m\u001b[0;34m(\u001b[0m\u001b[0mG\u001b[0m\u001b[0;34m)\u001b[0m\u001b[0;34m\u001b[0m\u001b[0m\n\u001b[0m\u001b[1;32m      2\u001b[0m \u001b[0mplt\u001b[0m\u001b[0;34m.\u001b[0m\u001b[0mfigure\u001b[0m\u001b[0;34m(\u001b[0m\u001b[0mfigsize\u001b[0m\u001b[0;34m=\u001b[0m\u001b[0;34m(\u001b[0m\u001b[0;36m10\u001b[0m\u001b[0;34m,\u001b[0m\u001b[0;36m10\u001b[0m\u001b[0;34m)\u001b[0m\u001b[0;34m)\u001b[0m\u001b[0;34m\u001b[0m\u001b[0m\n\u001b[1;32m      3\u001b[0m \u001b[0mnx\u001b[0m\u001b[0;34m.\u001b[0m\u001b[0mdraw\u001b[0m\u001b[0;34m(\u001b[0m\u001b[0mG\u001b[0m\u001b[0;34m,\u001b[0m \u001b[0mgpos\u001b[0m\u001b[0;34m,\u001b[0m \u001b[0mnode_size\u001b[0m\u001b[0;34m=\u001b[0m\u001b[0;36m10\u001b[0m\u001b[0;34m)\u001b[0m\u001b[0;34m\u001b[0m\u001b[0m\n",
      "\u001b[0;32m</Library/Frameworks/Python.framework/Versions/3.7/lib/python3.7/site-packages/decorator.py:decorator-gen-787>\u001b[0m in \u001b[0;36mfruchterman_reingold_layout\u001b[0;34m(G, k, pos, fixed, iterations, threshold, weight, scale, center, dim, seed)\u001b[0m\n",
      "\u001b[0;32m/Library/Frameworks/Python.framework/Versions/3.7/lib/python3.7/site-packages/networkx/utils/decorators.py\u001b[0m in \u001b[0;36m_random_state\u001b[0;34m(func, *args, **kwargs)\u001b[0m\n\u001b[1;32m    403\u001b[0m         \u001b[0mnew_args\u001b[0m \u001b[0;34m=\u001b[0m \u001b[0mlist\u001b[0m\u001b[0;34m(\u001b[0m\u001b[0margs\u001b[0m\u001b[0;34m)\u001b[0m\u001b[0;34m\u001b[0m\u001b[0m\n\u001b[1;32m    404\u001b[0m         \u001b[0mnew_args\u001b[0m\u001b[0;34m[\u001b[0m\u001b[0mrandom_state_index\u001b[0m\u001b[0;34m]\u001b[0m \u001b[0;34m=\u001b[0m \u001b[0mrandom_state\u001b[0m\u001b[0;34m\u001b[0m\u001b[0m\n\u001b[0;32m--> 405\u001b[0;31m         \u001b[0;32mreturn\u001b[0m \u001b[0mfunc\u001b[0m\u001b[0;34m(\u001b[0m\u001b[0;34m*\u001b[0m\u001b[0mnew_args\u001b[0m\u001b[0;34m,\u001b[0m \u001b[0;34m**\u001b[0m\u001b[0mkwargs\u001b[0m\u001b[0;34m)\u001b[0m\u001b[0;34m\u001b[0m\u001b[0m\n\u001b[0m\u001b[1;32m    406\u001b[0m     \u001b[0;32mreturn\u001b[0m \u001b[0m_random_state\u001b[0m\u001b[0;34m\u001b[0m\u001b[0m\n\u001b[1;32m    407\u001b[0m \u001b[0;34m\u001b[0m\u001b[0m\n",
      "\u001b[0;32m/Library/Frameworks/Python.framework/Versions/3.7/lib/python3.7/site-packages/networkx/drawing/layout.py\u001b[0m in \u001b[0;36mfruchterman_reingold_layout\u001b[0;34m(G, k, pos, fixed, iterations, threshold, weight, scale, center, dim, seed)\u001b[0m\n\u001b[1;32m    460\u001b[0m                                            dim, seed)\n\u001b[1;32m    461\u001b[0m     \u001b[0;32mexcept\u001b[0m\u001b[0;34m:\u001b[0m\u001b[0;34m\u001b[0m\u001b[0m\n\u001b[0;32m--> 462\u001b[0;31m         \u001b[0mA\u001b[0m \u001b[0;34m=\u001b[0m \u001b[0mnx\u001b[0m\u001b[0;34m.\u001b[0m\u001b[0mto_numpy_array\u001b[0m\u001b[0;34m(\u001b[0m\u001b[0mG\u001b[0m\u001b[0;34m,\u001b[0m \u001b[0mweight\u001b[0m\u001b[0;34m=\u001b[0m\u001b[0mweight\u001b[0m\u001b[0;34m)\u001b[0m\u001b[0;34m\u001b[0m\u001b[0m\n\u001b[0m\u001b[1;32m    463\u001b[0m         \u001b[0;32mif\u001b[0m \u001b[0mk\u001b[0m \u001b[0;32mis\u001b[0m \u001b[0;32mNone\u001b[0m \u001b[0;32mand\u001b[0m \u001b[0mfixed\u001b[0m \u001b[0;32mis\u001b[0m \u001b[0;32mnot\u001b[0m \u001b[0;32mNone\u001b[0m\u001b[0;34m:\u001b[0m\u001b[0;34m\u001b[0m\u001b[0m\n\u001b[1;32m    464\u001b[0m             \u001b[0;31m# We must adjust k by domain size for layouts not near 1x1\u001b[0m\u001b[0;34m\u001b[0m\u001b[0;34m\u001b[0m\u001b[0m\n",
      "\u001b[0;32m/Library/Frameworks/Python.framework/Versions/3.7/lib/python3.7/site-packages/networkx/convert_matrix.py\u001b[0m in \u001b[0;36mto_numpy_array\u001b[0;34m(G, nodelist, dtype, order, multigraph_weight, weight, nonedge)\u001b[0m\n\u001b[1;32m   1117\u001b[0m     \u001b[0;32melse\u001b[0m\u001b[0;34m:\u001b[0m\u001b[0;34m\u001b[0m\u001b[0m\n\u001b[1;32m   1118\u001b[0m         \u001b[0;31m# Graph or DiGraph, this is much faster than above\u001b[0m\u001b[0;34m\u001b[0m\u001b[0;34m\u001b[0m\u001b[0m\n\u001b[0;32m-> 1119\u001b[0;31m         \u001b[0mA\u001b[0m \u001b[0;34m=\u001b[0m \u001b[0mnp\u001b[0m\u001b[0;34m.\u001b[0m\u001b[0mfull\u001b[0m\u001b[0;34m(\u001b[0m\u001b[0;34m(\u001b[0m\u001b[0mnlen\u001b[0m\u001b[0;34m,\u001b[0m \u001b[0mnlen\u001b[0m\u001b[0;34m)\u001b[0m\u001b[0;34m,\u001b[0m \u001b[0mnp\u001b[0m\u001b[0;34m.\u001b[0m\u001b[0mnan\u001b[0m\u001b[0;34m,\u001b[0m \u001b[0morder\u001b[0m\u001b[0;34m=\u001b[0m\u001b[0morder\u001b[0m\u001b[0;34m)\u001b[0m\u001b[0;34m\u001b[0m\u001b[0m\n\u001b[0m\u001b[1;32m   1120\u001b[0m         \u001b[0;32mfor\u001b[0m \u001b[0mu\u001b[0m\u001b[0;34m,\u001b[0m \u001b[0mnbrdict\u001b[0m \u001b[0;32min\u001b[0m \u001b[0mG\u001b[0m\u001b[0;34m.\u001b[0m\u001b[0madjacency\u001b[0m\u001b[0;34m(\u001b[0m\u001b[0;34m)\u001b[0m\u001b[0;34m:\u001b[0m\u001b[0;34m\u001b[0m\u001b[0m\n\u001b[1;32m   1121\u001b[0m             \u001b[0;32mfor\u001b[0m \u001b[0mv\u001b[0m\u001b[0;34m,\u001b[0m \u001b[0md\u001b[0m \u001b[0;32min\u001b[0m \u001b[0mnbrdict\u001b[0m\u001b[0;34m.\u001b[0m\u001b[0mitems\u001b[0m\u001b[0;34m(\u001b[0m\u001b[0;34m)\u001b[0m\u001b[0;34m:\u001b[0m\u001b[0;34m\u001b[0m\u001b[0m\n",
      "\u001b[0;32m/Library/Frameworks/Python.framework/Versions/3.7/lib/python3.7/site-packages/numpy/core/numeric.py\u001b[0m in \u001b[0;36mfull\u001b[0;34m(shape, fill_value, dtype, order)\u001b[0m\n\u001b[1;32m    308\u001b[0m         \u001b[0mdtype\u001b[0m \u001b[0;34m=\u001b[0m \u001b[0marray\u001b[0m\u001b[0;34m(\u001b[0m\u001b[0mfill_value\u001b[0m\u001b[0;34m)\u001b[0m\u001b[0;34m.\u001b[0m\u001b[0mdtype\u001b[0m\u001b[0;34m\u001b[0m\u001b[0m\n\u001b[1;32m    309\u001b[0m     \u001b[0ma\u001b[0m \u001b[0;34m=\u001b[0m \u001b[0mempty\u001b[0m\u001b[0;34m(\u001b[0m\u001b[0mshape\u001b[0m\u001b[0;34m,\u001b[0m \u001b[0mdtype\u001b[0m\u001b[0;34m,\u001b[0m \u001b[0morder\u001b[0m\u001b[0;34m)\u001b[0m\u001b[0;34m\u001b[0m\u001b[0m\n\u001b[0;32m--> 310\u001b[0;31m     \u001b[0mmultiarray\u001b[0m\u001b[0;34m.\u001b[0m\u001b[0mcopyto\u001b[0m\u001b[0;34m(\u001b[0m\u001b[0ma\u001b[0m\u001b[0;34m,\u001b[0m \u001b[0mfill_value\u001b[0m\u001b[0;34m,\u001b[0m \u001b[0mcasting\u001b[0m\u001b[0;34m=\u001b[0m\u001b[0;34m'unsafe'\u001b[0m\u001b[0;34m)\u001b[0m\u001b[0;34m\u001b[0m\u001b[0m\n\u001b[0m\u001b[1;32m    311\u001b[0m     \u001b[0;32mreturn\u001b[0m \u001b[0ma\u001b[0m\u001b[0;34m\u001b[0m\u001b[0m\n\u001b[1;32m    312\u001b[0m \u001b[0;34m\u001b[0m\u001b[0m\n",
      "\u001b[0;31mKeyboardInterrupt\u001b[0m: "
     ]
    }
   ],
   "source": [
    "gpos = nx.spring_layout(G)\n",
    "plt.figure(figsize=(10,10))\n",
    "nx.draw(G, gpos, node_size=10)"
   ]
  },
  {
   "cell_type": "code",
   "execution_count": null,
   "metadata": {},
   "outputs": [],
   "source": []
  }
 ],
 "metadata": {
  "kernelspec": {
   "display_name": "Python 3",
   "language": "python",
   "name": "python3"
  },
  "language_info": {
   "codemirror_mode": {
    "name": "ipython",
    "version": 3
   },
   "file_extension": ".py",
   "mimetype": "text/x-python",
   "name": "python",
   "nbconvert_exporter": "python",
   "pygments_lexer": "ipython3",
   "version": "3.7.0"
  }
 },
 "nbformat": 4,
 "nbformat_minor": 2
}
